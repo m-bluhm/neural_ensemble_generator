{
 "cells": [
  {
   "cell_type": "code",
   "execution_count": 23,
   "id": "79eb7583",
   "metadata": {},
   "outputs": [],
   "source": [
    "# Import essential libraries\n",
    "import numpy as np\n",
    "import matplotlib.pyplot as plt\n",
    "\n",
    "# Set simulation parameters\n",
    "Vthresh = -50   #mV\n",
    "Vreset  = -70   #mV max\n",
    "Vspike  =  20   #mV\n",
    "Rm      =  10   #MOhms lower Resistance = lower spikes\n",
    "tau     =  10   #ms\n",
    "dt      =  0.1 #ms\n",
    "counter =  0\n",
    "i = 0 #counting the number of iterations\n"
   ]
  },
  {
   "cell_type": "code",
   "execution_count": 37,
   "id": "34254d80",
   "metadata": {},
   "outputs": [
    {
     "name": "stdout",
     "output_type": "stream",
     "text": [
      "0.30000000000000004\n"
     ]
    }
   ],
   "source": [
    "# Creates a vector of time points from 0 to 499 ms in steps of dt=0.01ms\n",
    "timeVector = np.linspace(0, 500, 5001)\n",
    "\n",
    "print(timeVector[3])\n",
    "\n",
    "# Creates a placeholder for our voltages that is the same size as timeVector\n",
    "voltageVector = np.zeros(len(timeVector))\n",
    "\n",
    "voltVec = np.zeros(len(timeVector))\n",
    "\n",
    "# Creates a placeholder for the external stimulation vector.\n",
    "# It is also the same size as the time vector.\n",
    "stimVector = np.zeros(len(timeVector))\n",
    "\n",
    "#print(timeVector[4990:5001])"
   ]
  },
  {
   "cell_type": "code",
   "execution_count": 25,
   "id": "a036cc40",
   "metadata": {},
   "outputs": [],
   "source": [
    "#as determined by the problem (given)\n",
    "\n",
    "# Sets the external stimulation to 2.0001 nA for the first 500 ms\n",
    "stimVector[0:] = 2.0001\n",
    "\n",
    "#all entries are the same\n",
    "#2.0001nA for V = -70mV\n",
    "#1.01nA for V = -60mV"
   ]
  },
  {
   "cell_type": "code",
   "execution_count": 26,
   "id": "e302ddc0",
   "metadata": {},
   "outputs": [],
   "source": [
    "# Set the initial voltage to be equal to the resting potential\n",
    "voltageVector[0] = Vreset"
   ]
  },
  {
   "cell_type": "code",
   "execution_count": 27,
   "id": "d0d22d48",
   "metadata": {},
   "outputs": [],
   "source": [
    "# This line initiates the loop. \"S\" counts the number of loops.\n",
    "# We are looping for 1 less than the length of the time vector\n",
    "# because we have already calculated the voltage for the first\n",
    "# iteration.\n",
    "for S in range(len(timeVector)-1):\n",
    "\n",
    "    \n",
    "    Vinf = ((Vreset + Rm * stimVector[S])/tau) + (-voltageVector[S]/tau) # ((E + I*R)/tau) + (-v[i]/tau)\n",
    "    \n",
    "    voltageVector[S+1] = Vinf * dt + voltageVector[S]  #v[i+1] = v[i] + dt *Vinf\n",
    "    \n",
    "  # The next voltage value is is equal to where we are going (Vinf)\n",
    "  # plus the product of the different between the present voltage and\n",
    "  # Vinf (how far we have to go) and e^-t/tau (how far we are going\n",
    "  # in each step)\n",
    "   \n",
    "    #voltageVector[S+1] = Vinf + (voltageVector[S]-Vinf)*np.exp(-dt/tau)\n",
    "\n",
    "    \n",
    "  # This 'if' condition states that if the next voltage is greater than\n",
    "  # or equal to the threshold, then to run the next section\n",
    "    if voltageVector[S+1] >= Vthresh:\n",
    "     # This states that the next voltage vector will be the Vspike value\n",
    "        voltageVector[S+1] = Vspike\n",
    "     \n",
    "     # This 'if' statement checks if we are already at Vspike (this is\n",
    "     # another way we can be above Vthresh)\n",
    "        if voltageVector[S] == Vspike:\n",
    "            #print(S) This prints the timing of spikes\n",
    "            voltVec[i] = 1 #add a 1 to indicate a spike in voltVec\n",
    "            \n",
    "        # Set the next voltage equal to the reset value\n",
    "            voltageVector[S+1] = Vreset\n",
    "        \n",
    "        # This will count the number of observed spikes so that spike count\n",
    "        # rate may be calculated later\n",
    "            counter += 1\n",
    "    i +=1"
   ]
  },
  {
   "cell_type": "code",
   "execution_count": 28,
   "id": "96e8c2eb",
   "metadata": {},
   "outputs": [
    {
     "name": "stdout",
     "output_type": "stream",
     "text": [
      "The Firing Rate is 10Hz.\n"
     ]
    },
    {
     "data": {
      "image/png": "[encoded data removed]",
      "text/plain": [
       "<Figure size 432x288 with 1 Axes>"
      ]
     },
     "metadata": {
      "needs_background": "light"
     },
     "output_type": "display_data"
    }
   ],
   "source": [
    "# This sets the new plot object\n",
    "plt.figure()\n",
    "\n",
    "# This plots the voltage (y-axis) as a function of time (x-axis)\n",
    "plt.plot(timeVector, voltageVector)\n",
    "\n",
    "# This labels the y-axis\n",
    "plt.ylabel('Voltage in mV')\n",
    "\n",
    "# This labels the x-axis\n",
    "plt.xlabel('Time in ms')\n",
    "\n",
    "# This sets the title\n",
    "plt.title('Voltage versus time')\n",
    "\n",
    "#print(np.count_nonzero(voltVec ==1))\n",
    "#print(counter)\n",
    "\n",
    "print(\"The Firing Rate is \" + str(counter * 2) + \"Hz.\" )"
   ]
  },
  {
   "cell_type": "code",
   "execution_count": 44,
   "id": "fde3aec4",
   "metadata": {},
   "outputs": [],
   "source": [
    "#Pull the times of spiking\n",
    "for y in range(len(voltVec)): #grab index of 1 and compare to timeVector\n",
    "\n",
    "    if voltVec[y] == 1:\n",
    "        temp_index = y\n",
    "        \n",
    "        print('%.2f'% timeVector[y])\n",
    "        #print(temp_index)\n",
    "        \n",
    "#print up to first decimal (adjust based on dt value)"
   ]
  },
  {
   "cell_type": "code",
   "execution_count": 22,
   "id": "f2bb3d7b",
   "metadata": {},
   "outputs": [
    {
     "data": {
      "text/plain": [
       "39.47"
      ]
     },
     "execution_count": 22,
     "metadata": {},
     "output_type": "execute_result"
    }
   ],
   "source": [
    "\n",
    "timeVector[3947]\n"
   ]
  },
  {
   "cell_type": "code",
   "execution_count": 35,
   "id": "aaaa16ee",
   "metadata": {},
   "outputs": [
    {
     "data": {
      "text/plain": [
       "0.30000000000000004"
      ]
     },
     "execution_count": 35,
     "metadata": {},
     "output_type": "execute_result"
    }
   ],
   "source": [
    "\n",
    "np.diff(timeVector) == 0.1\n",
    "\n",
    "timeVector[3]"
   ]
  },
  {
   "cell_type": "code",
   "execution_count": null,
   "id": "274c5cf6",
   "metadata": {},
   "outputs": [],
   "source": []
  }
 ],
 "metadata": {
  "kernelspec": {
   "display_name": "Python 3 (ipykernel)",
   "language": "python",
   "name": "python3"
  },
  "language_info": {
   "codemirror_mode": {
    "name": "ipython",
    "version": 3
   },
   "file_extension": ".py",
   "mimetype": "text/x-python",
   "name": "python",
   "nbconvert_exporter": "python",
   "pygments_lexer": "ipython3",
   "version": "3.9.12"
  }
 },
 "nbformat": 4,
 "nbformat_minor": 5
}
