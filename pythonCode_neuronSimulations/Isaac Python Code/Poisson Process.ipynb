{
 "cells": [
  {
   "cell_type": "code",
   "execution_count": 1,
   "id": "7be29184",
   "metadata": {},
   "outputs": [],
   "source": [
    "#subdivide time into short intervals of the same duration (dt). r = 20 \n",
    "#generate a sequence of random numbers (x[i]) uniformly distributed between 0 and 1\n",
    "#if x[i] is greater than rst there will be a spike\n",
    "# maybe set st equal to 1 millisecond\n",
    "# simulation time should be 1000ms and frequency is 20HZ (there should be 20 spikes)\n",
    "\n",
    "##Goal: Create list of spikes and spike times via Poisson Process\n",
    "\n",
    "\n",
    "import numpy as np\n",
    "import matplotlib.pyplot as plt\n",
    "import random \n",
    "\n",
    "dt = 1 #1 ms = 0.001ms- maybe decrease (given by poisson article)\n",
    "r = 0.02 #constant (spikes/ms) asked for frequency of 20Hz\n",
    "counter = 0 #counting number of spikes\n",
    "time = 1000 #ms\n",
    "timeVector = np.arange(0, time, dt) #creating time vector of intervals of size dt\n",
    "spikeVector = np.zeros(len(timeVector)) #holding 1s for spike and 0 for no spike at given interval\n",
    "\n",
    "#create xVector of same length of timeVector to store uniform values between 0 and 1\n",
    "\n",
    "xVector = np.random.uniform(0,1, size = len(timeVector))\n",
    "\n",
    "\n",
    "\n",
    "\n",
    "\n",
    "\n"
   ]
  },
  {
   "cell_type": "code",
   "execution_count": 2,
   "id": "1c459eaa",
   "metadata": {},
   "outputs": [],
   "source": [
    "counter = 0 # reset counter\n",
    "for i in range(len(xVector)):\n",
    "    \n",
    "    if xVector[i] <= r * dt: \n",
    "        spikeVector[i] = 1\n",
    "        counter += 1\n",
    "        \n",
    "\n"
   ]
  },
  {
   "cell_type": "code",
   "execution_count": 3,
   "id": "2dc512bf",
   "metadata": {},
   "outputs": [
    {
     "name": "stdout",
     "output_type": "stream",
     "text": [
      "22\n"
     ]
    }
   ],
   "source": [
    "print(counter)"
   ]
  },
  {
   "cell_type": "code",
   "execution_count": 4,
   "id": "c53a09a6",
   "metadata": {},
   "outputs": [],
   "source": [
    "spike_time_Vector = np.zeros(counter)   #create vector of spike times equal to length of spike count\n",
    "z = 0 #initialize z to begin at index 0\n",
    "\n",
    "for y in range(len(spikeVector)): #grab index of spike and compare to timeVector\n",
    "\n",
    "    if spikeVector[y] == 1:\n",
    "        temp_index = y\n",
    "        spike_time_Vector[z] = timeVector[y] #add spike times in this vector \n",
    "        z = z + 1\n",
    "        #print(\"%.1f\" % timeVector[y]) ms"
   ]
  },
  {
   "cell_type": "code",
   "execution_count": 5,
   "id": "59754bd4",
   "metadata": {},
   "outputs": [
    {
     "name": "stdout",
     "output_type": "stream",
     "text": [
      "The average isi is:\n",
      "42.142857142857146\n",
      "The std is:\n",
      "41.63250300093005\n"
     ]
    }
   ],
   "source": [
    "#Calculate ISI\n",
    "isi_vec = np.diff(spike_time_Vector)\n",
    "#print(\"ISI:\")\n",
    "#print(isi_vec)\n",
    "\n",
    "\n",
    "print(\"The average isi is:\")\n",
    "print(np.mean(isi_vec)) #ms\n",
    "\n",
    "print(\"The std is:\")\n",
    "print(np.std(isi_vec)) #ms\n",
    "\n"
   ]
  },
  {
   "cell_type": "code",
   "execution_count": 6,
   "id": "106e8559",
   "metadata": {},
   "outputs": [
    {
     "data": {
      "image/png": "[encoded data removed]",
      "text/plain": [
       "<Figure size 432x288 with 1 Axes>"
      ]
     },
     "metadata": {
      "needs_background": "light"
     },
     "output_type": "display_data"
    }
   ],
   "source": [
    "#Check that the time between spikes (ISI) is exponentially distributed – the mean(ISI) = std(ISI). \n",
    "\n",
    "\n",
    "plt.hist(isi_vec)\n",
    "\n",
    "plt.title('ISI Distribution')\n",
    "\n",
    "\n",
    "plt.show()"
   ]
  },
  {
   "cell_type": "code",
   "execution_count": 15,
   "id": "d6558dba",
   "metadata": {},
   "outputs": [],
   "source": [
    "########## Part 2: Conductance Figure\n",
    "\n",
    "##Goal: Compute and Plot Excitatory Conductance\n",
    "\n",
    "Se = 1 #strength of spike\n",
    "j = 5 #ms time to decay\n",
    "\n",
    "geVector = np.zeros(len(timeVector)) #amount spike jumps, excitatory conductance\n",
    "\n",
    "for i in range(1, time, dt):\n",
    "    if spikeVector[i] == 1:\n",
    "        geVector[i] = geVector[i-1] + Se\n",
    "        \n",
    "    else:\n",
    "        geVector[i] = geVector[i-1] * np.exp(-dt/j)"
   ]
  },
  {
   "cell_type": "code",
   "execution_count": 16,
   "id": "89193fbf",
   "metadata": {},
   "outputs": [],
   "source": [
    "yVector = np.zeros(len(spike_time_Vector))"
   ]
  },
  {
   "cell_type": "code",
   "execution_count": 17,
   "id": "1715317f",
   "metadata": {
    "scrolled": true
   },
   "outputs": [
    {
     "data": {
      "text/plain": [
       "Text(0.5, 1.0, 'Excitatory Conductance')"
      ]
     },
     "execution_count": 17,
     "metadata": {},
     "output_type": "execute_result"
    },
    {
     "data": {
      "image/png": "[encoded data removed]",
      "text/plain": [
       "<Figure size 432x288 with 1 Axes>"
      ]
     },
     "metadata": {
      "needs_background": "light"
     },
     "output_type": "display_data"
    }
   ],
   "source": [
    "# This sets the new plot object\n",
    "plt.figure()\n",
    "\n",
    "# This plots the voltage (y-axis) as a function of time (x-axis)\n",
    "plt.plot(timeVector, geVector)\n",
    "\n",
    "plt.plot(spike_time_Vector, yVector, marker = 'o', linestyle = 'none')\n",
    "\n",
    "\n",
    "\n",
    "# This labels the x-axis\n",
    "plt.xlabel('Time in ms')\n",
    "\n",
    "# This sets the title\n",
    "plt.title('Excitatory Conductance')\n",
    "\n"
   ]
  },
  {
   "cell_type": "code",
   "execution_count": null,
   "id": "69f5e4d3",
   "metadata": {},
   "outputs": [],
   "source": []
  },
  {
   "cell_type": "code",
   "execution_count": null,
   "id": "38c8ab59",
   "metadata": {},
   "outputs": [],
   "source": []
  }
 ],
 "metadata": {
  "kernelspec": {
   "display_name": "Python 3 (ipykernel)",
   "language": "python",
   "name": "python3"
  },
  "language_info": {
   "codemirror_mode": {
    "name": "ipython",
    "version": 3
   },
   "file_extension": ".py",
   "mimetype": "text/x-python",
   "name": "python",
   "nbconvert_exporter": "python",
   "pygments_lexer": "ipython3",
   "version": "3.9.12"
  }
 },
 "nbformat": 4,
 "nbformat_minor": 5
}
